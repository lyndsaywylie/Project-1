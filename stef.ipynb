{
 "cells": [
  {
   "cell_type": "code",
   "execution_count": 36,
   "id": "25510ef4",
   "metadata": {},
   "outputs": [
    {
     "data": {
      "text/plain": [
       "'owRulsaHUpxZM4Mg9HaYJ_wDFqLUioOX'"
      ]
     },
     "execution_count": 36,
     "metadata": {},
     "output_type": "execute_result"
    }
   ],
   "source": [
    "# Dependencies\n",
    "# Note had to run pip install poloygon-api-client\n",
    "import json\n",
    "import requests\n",
    "import pandas as pd\n",
    "import matplotlib.pyplot as plt\n",
    "\n",
    "from pprint import pprint\n",
    "from datetime import date, datetime, timedelta\n",
    "import time\n",
    "import datetime\n",
    "from dateutil.parser import parse\n",
    "\n",
    "\n",
    "from config import api_key \n",
    " \n",
    "api_key\n"
   ]
  },
  {
   "cell_type": "code",
   "execution_count": 37,
   "id": "583b1a38",
   "metadata": {},
   "outputs": [
    {
     "name": "stdout",
     "output_type": "stream",
     "text": [
      "https://api.polygon.io/v3/reference/tickers/AAPL?apiKey=owRulsaHUpxZM4Mg9HaYJ_wDFqLUioOX\n",
      "{\n",
      "    \"results\": {\n",
      "        \"ticker\": \"AAPL\",\n",
      "        \"name\": \"Apple Inc.\",\n",
      "        \"market\": \"stocks\",\n",
      "        \"locale\": \"us\",\n",
      "        \"primary_exchange\": \"XNAS\",\n",
      "        \"type\": \"CS\",\n",
      "        \"active\": true,\n",
      "        \"currency_name\": \"usd\",\n",
      "        \"cik\": \"0000320193\",\n",
      "        \"composite_figi\": \"BBG000B9XRY4\",\n",
      "        \"share_class_figi\": \"BBG001S5N8V8\",\n",
      "        \"market_cap\": 2327044889600,\n",
      "        \"phone_number\": \"(408) 996-1010\",\n",
      "        \"address\": {\n",
      "            \"address1\": \"ONE APPLE PARK WAY\",\n",
      "            \"city\": \"CUPERTINO\",\n",
      "            \"state\": \"CA\",\n",
      "            \"postal_code\": \"95014\"\n",
      "        },\n",
      "        \"description\": \"Apple designs a wide variety of consumer electronic devices, including smartphones (iPhone), tablets (iPad), PCs (Mac), smartwatches (Apple Watch), AirPods, and TV boxes (Apple TV), among others. The iPhone makes up the majority of Apple's total revenue. In addition, Apple offers its customers a variety of services such as Apple Music, iCloud, Apple Care, Apple TV+, Apple Arcade, Apple Card, and Apple Pay, among others. Apple's products run internally developed software and semiconductors, and the firm is well known for its integration of hardware, software and services. Apple's products are distributed online as well as through company-owned stores and third-party retailers. The company generates roughly 40% of its revenue from the Americas, with the remainder earned internationally.\",\n",
      "        \"sic_code\": \"3571\",\n",
      "        \"sic_description\": \"ELECTRONIC COMPUTERS\",\n",
      "        \"ticker_root\": \"AAPL\",\n",
      "        \"homepage_url\": \"https://www.apple.com\",\n",
      "        \"total_employees\": 154000,\n",
      "        \"list_date\": \"1980-12-12\",\n",
      "        \"branding\": {\n",
      "            \"logo_url\": \"https://api.polygon.io/v1/reference/company-branding/d3d3LmFwcGxlLmNvbQ/images/2022-10-01_logo.svg\",\n",
      "            \"icon_url\": \"https://api.polygon.io/v1/reference/company-branding/d3d3LmFwcGxlLmNvbQ/images/2022-10-01_icon.png\"\n",
      "        },\n",
      "        \"share_class_shares_outstanding\": 16070750000,\n",
      "        \"weighted_shares_outstanding\": 16070752000,\n",
      "        \"round_lot\": 100\n",
      "    },\n",
      "    \"status\": \"OK\",\n",
      "    \"request_id\": \"02c50df9532226390cc9fbf5b8c966bf\"\n",
      "}\n",
      "https://api.polygon.io/v3/reference/tickers/GOOG?apiKey=owRulsaHUpxZM4Mg9HaYJ_wDFqLUioOX\n",
      "{\n",
      "    \"results\": {\n",
      "        \"ticker\": \"GOOG\",\n",
      "        \"name\": \"Alphabet Inc. Class C Capital Stock\",\n",
      "        \"market\": \"stocks\",\n",
      "        \"locale\": \"us\",\n",
      "        \"primary_exchange\": \"XNAS\",\n",
      "        \"type\": \"CS\",\n",
      "        \"active\": true,\n",
      "        \"currency_name\": \"usd\",\n",
      "        \"cik\": \"0001652044\",\n",
      "        \"composite_figi\": \"BBG009S3NB30\",\n",
      "        \"share_class_figi\": \"BBG009S3NB21\",\n",
      "        \"market_cap\": 1198521800000,\n",
      "        \"phone_number\": \"650-253-0000\",\n",
      "        \"address\": {\n",
      "            \"address1\": \"1600 AMPHITHEATRE PARKWAY\",\n",
      "            \"city\": \"MOUNTAIN VIEW\",\n",
      "            \"state\": \"CA\",\n",
      "            \"postal_code\": \"94043\"\n",
      "        },\n",
      "        \"description\": \"Alphabet is a holding company. Internet media giant Google is a wholly owned subsidiary. Google generates 99% of Alphabet revenue, of which more than 85% is from online ads. Google's other revenue is from sales of apps and content on Google Play and YouTube, as well as cloud service fees and other licensing revenue. Sales of hardware such as Chromebooks, the Pixel smartphone, and smart home products, which include Nest and Google Home, also contribute to other revenue. Alphabet's moonshot investments are in its other bets segment, where it bets on technology to enhance health (Verily), faster internet access to homes (Google Fiber), self-driving cars (Waymo), and more. Alphabet's operating margin has been 25%-30%, with Google at 30% and other bets operating at a loss.\",\n",
      "        \"sic_code\": \"7370\",\n",
      "        \"sic_description\": \"SERVICES-COMPUTER PROGRAMMING, DATA PROCESSING, ETC.\",\n",
      "        \"ticker_root\": \"GOOG\",\n",
      "        \"homepage_url\": \"https://www.abc.xyz\",\n",
      "        \"total_employees\": 186779,\n",
      "        \"list_date\": \"2004-08-19\",\n",
      "        \"branding\": {\n",
      "            \"logo_url\": \"https://api.polygon.io/v1/reference/company-branding/d3d3LmFiYy54eXo/images/2022-10-01_logo.svg\",\n",
      "            \"icon_url\": \"https://api.polygon.io/v1/reference/company-branding/d3d3LmFiYy54eXo/images/2022-10-01_icon.png\"\n",
      "        },\n",
      "        \"share_class_shares_outstanding\": 6163000000,\n",
      "        \"weighted_shares_outstanding\": 12943000000,\n",
      "        \"round_lot\": 100\n",
      "    },\n",
      "    \"status\": \"OK\",\n",
      "    \"request_id\": \"e3e75bb961ea5f8943190356b75a2483\"\n",
      "}\n",
      "https://api.polygon.io/v3/reference/tickers/AMZN?apiKey=owRulsaHUpxZM4Mg9HaYJ_wDFqLUioOX\n",
      "{\n",
      "    \"results\": {\n",
      "        \"ticker\": \"AMZN\",\n",
      "        \"name\": \"Amazon.Com Inc\",\n",
      "        \"market\": \"stocks\",\n",
      "        \"locale\": \"us\",\n",
      "        \"primary_exchange\": \"XNAS\",\n",
      "        \"type\": \"CS\",\n",
      "        \"active\": true,\n",
      "        \"currency_name\": \"usd\",\n",
      "        \"cik\": \"0001018724\",\n",
      "        \"composite_figi\": \"BBG000BVPV84\",\n",
      "        \"share_class_figi\": \"BBG001S5PQL7\",\n",
      "        \"market_cap\": 1130411082605.28,\n",
      "        \"phone_number\": \"(206) 266-1000\",\n",
      "        \"address\": {\n",
      "            \"address1\": \"410 TERRY AVENUE NORTH\",\n",
      "            \"city\": \"SEATTLE\",\n",
      "            \"state\": \"WA\",\n",
      "            \"postal_code\": \"98109\"\n",
      "        },\n",
      "        \"description\": \"Amazon is a leading online retailer and one of the highest-grossing e-commerce aggregators, with $386 billion in net sales and approximately $578 billion in estimated physical/digital online gross merchandise volume in 2021. Retail-related revenue represents approximately 80% of the total, followed by Amazon Web Services' cloud computing, storage, database, and other offerings (10%-15%), advertising services (5%), and other. International segments constitute 25%-30% of Amazon's non-AWS sales, led by Germany, the United Kingdom, and Japan.\",\n",
      "        \"sic_code\": \"5961\",\n",
      "        \"sic_description\": \"RETAIL-CATALOG & MAIL-ORDER HOUSES\",\n",
      "        \"ticker_root\": \"AMZN\",\n",
      "        \"homepage_url\": \"https://www.amazon.com\",\n",
      "        \"total_employees\": 1608000,\n",
      "        \"list_date\": \"1997-05-15\",\n",
      "        \"branding\": {\n",
      "            \"logo_url\": \"https://api.polygon.io/v1/reference/company-branding/d3d3LmFtYXpvbi5jb20/images/2022-10-01_logo.svg\",\n",
      "            \"icon_url\": \"https://api.polygon.io/v1/reference/company-branding/d3d3LmFtYXpvbi5jb20/images/2022-10-01_icon.jpeg\"\n",
      "        },\n",
      "        \"share_class_shares_outstanding\": 10187560000,\n",
      "        \"weighted_shares_outstanding\": 10187554818,\n",
      "        \"round_lot\": 100\n",
      "    },\n",
      "    \"status\": \"OK\",\n",
      "    \"request_id\": \"2be92bde0d6407750a317885339c92aa\"\n",
      "}\n"
     ]
    }
   ],
   "source": [
    "\n",
    "#Get summary information on each company\n",
    "\n",
    "count = 1\n",
    "while count < 4:\n",
    "       \n",
    "   \n",
    "    if count == 1:\n",
    "        name = \"AAPL\"\n",
    "               \n",
    "    elif count == 2:\n",
    "        name = \"GOOG\"\n",
    "                \n",
    "    elif count == 3:\n",
    "        name = \"AMZN\"\n",
    "        \n",
    "        \n",
    "    \n",
    "    \n",
    "    url= f\"https://api.polygon.io/v3/reference/tickers/{name}?apiKey={api_key}\"\n",
    "    print(url)\n",
    "    #print(requests.get(url).json())\n",
    "    \n",
    "    response = requests.get(url).json() \n",
    "            \n",
    "    print(json.dumps(response,indent=4))\n",
    "     \n",
    "\n",
    "    \n",
    "    #print(response[\"results\"][\"description\"])\n",
    "    #print('------------------------------------')\n",
    "    \n",
    "    count+=1\n",
    "    \n",
    "\n",
    " \n",
    " "
   ]
  },
  {
   "cell_type": "code",
   "execution_count": 38,
   "id": "8197a2ec",
   "metadata": {
    "scrolled": true
   },
   "outputs": [
    {
     "name": "stdout",
     "output_type": "stream",
     "text": [
      "    ticker     open    close           date\n",
      "0     AAPL  19.7793  19.6082  1357102800000\n",
      "1     AAPL  19.5671  19.3606  1357189200000\n",
      "2     AAPL  19.1773  18.8214  1357275600000\n",
      "3     AAPL  18.6429  18.7107  1357534800000\n",
      "4     AAPL  18.9004  18.7611  1357621200000\n",
      "..     ...      ...      ...            ...\n",
      "115   AMZN  13.9540  14.0880  1371528000000\n",
      "116   AMZN  14.0630  13.9080  1371614400000\n",
      "117   AMZN  13.7570  13.6720  1371700800000\n",
      "118   AMZN  13.7285  13.6680  1371787200000\n",
      "119   AMZN  13.5645  13.5305  1372046400000\n",
      "\n",
      "[360 rows x 4 columns]\n"
     ]
    }
   ],
   "source": [
    "tickers = [\"AAPL\", \"GOOG\", \"AMZN\"]\n",
    "dummy = pd.DataFrame(columns = [\"ticker\", \"o\", \"c\", \"t\"])\n",
    "for name in tickers:\n",
    "    url = f\"https://api.polygon.io/v2/aggs/ticker/{name}/range/1/day/2013-01-01/2022-10-22?adjusted=true&sort=asc&limit=120&apiKey={api_key}\"\n",
    "    response = requests.get(url).json()\n",
    "    datadata = pd.json_normalize(response[\"results\"])\n",
    "    datadata[\"ticker\"] = name\n",
    "    datadata = datadata[[\"ticker\", \"o\", \"c\", \"t\"]]\n",
    "    dummy = pd.concat([dummy, datadata])\n",
    "dummy.columns = [\"ticker\", \"open\", \"close\", \"date\"]\n",
    "print(dummy)"
   ]
  },
  {
   "cell_type": "code",
   "execution_count": 39,
   "id": "5837b2db",
   "metadata": {},
   "outputs": [
    {
     "name": "stdout",
     "output_type": "stream",
     "text": [
      "    ticker     open    close           date\n",
      "0     AAPL  19.7793  19.6082  1357102800000\n",
      "1     AAPL  19.5671  19.3606  1357189200000\n",
      "2     AAPL  19.1773  18.8214  1357275600000\n",
      "3     AAPL  18.6429  18.7107  1357534800000\n",
      "4     AAPL  18.9004  18.7611  1357621200000\n",
      "..     ...      ...      ...            ...\n",
      "115   AMZN  13.9540  14.0880  1371528000000\n",
      "116   AMZN  14.0630  13.9080  1371614400000\n",
      "117   AMZN  13.7570  13.6720  1371700800000\n",
      "118   AMZN  13.7285  13.6680  1371787200000\n",
      "119   AMZN  13.5645  13.5305  1372046400000\n",
      "\n",
      "[360 rows x 4 columns]\n"
     ]
    }
   ],
   "source": [
    "dummy2 = dummy[[\"ticker\", \"open\", \"close\", \"date\"]].copy()\n",
    "print(dummy2)"
   ]
  },
  {
   "cell_type": "code",
   "execution_count": 40,
   "id": "845d1cbf",
   "metadata": {},
   "outputs": [
    {
     "name": "stdout",
     "output_type": "stream",
     "text": [
      "2013-01-02 05:00:00\n"
     ]
    }
   ],
   "source": [
    "from datetime import datetime\n",
    "ts = int(\"1357102800000\")/1000\n",
    "print(datetime.utcfromtimestamp(ts).strftime('%Y-%m-%d %H:%M:%S'))"
   ]
  },
  {
   "cell_type": "code",
   "execution_count": 49,
   "id": "06973611",
   "metadata": {},
   "outputs": [
    {
     "name": "stdout",
     "output_type": "stream",
     "text": [
      "    ticker     open    close                date       dates  \\\n",
      "0     AAPL  19.7793  19.6082 2013-01-02 05:00:00  2013-01-02   \n",
      "1     AAPL  19.5671  19.3606 2013-01-03 05:00:00  2013-01-03   \n",
      "2     AAPL  19.1773  18.8214 2013-01-04 05:00:00  2013-01-04   \n",
      "3     AAPL  18.6429  18.7107 2013-01-07 05:00:00  2013-01-07   \n",
      "4     AAPL  18.9004  18.7611 2013-01-08 05:00:00  2013-01-08   \n",
      "..     ...      ...      ...                 ...         ...   \n",
      "115   AMZN  13.9540  14.0880 2013-06-18 04:00:00  2013-06-18   \n",
      "116   AMZN  14.0630  13.9080 2013-06-19 04:00:00  2013-06-19   \n",
      "117   AMZN  13.7570  13.6720 2013-06-20 04:00:00  2013-06-20   \n",
      "118   AMZN  13.7285  13.6680 2013-06-21 04:00:00  2013-06-21   \n",
      "119   AMZN  13.5645  13.5305 2013-06-24 04:00:00  2013-06-24   \n",
      "\n",
      "                  hours      time  \n",
      "0   2013-01-02 05:00:00  05:00:00  \n",
      "1   2013-01-03 05:00:00  05:00:00  \n",
      "2   2013-01-04 05:00:00  05:00:00  \n",
      "3   2013-01-07 05:00:00  05:00:00  \n",
      "4   2013-01-08 05:00:00  05:00:00  \n",
      "..                  ...       ...  \n",
      "115 2013-06-18 04:00:00  04:00:00  \n",
      "116 2013-06-19 04:00:00  04:00:00  \n",
      "117 2013-06-20 04:00:00  04:00:00  \n",
      "118 2013-06-21 04:00:00  04:00:00  \n",
      "119 2013-06-24 04:00:00  04:00:00  \n",
      "\n",
      "[360 rows x 7 columns]\n"
     ]
    }
   ],
   "source": [
    "#datetime.utcfromtimestamp(1357102800)\n",
    "\n",
    "#just to define timestamp but then current date\n",
    "#timestamp = pd.Timestamp(datetime.datetime(2022,10,10))\n",
    "#res = timestamp.today()\n",
    "#print(res)\n",
    "#del dummy[\"ourdate\"]\n",
    "\n",
    "#dummy.insert(4, \"ourdate\" , res)\n",
    "#dummy.head()\n",
    "\n",
    "dummy2[\"date\"] = pd.to_datetime(dummy2[\"date\"], unit = \"ms\")\n",
    "     \n",
    "print(dummy2)\n",
    "   \n",
    " "
   ]
  },
  {
   "cell_type": "code",
   "execution_count": 52,
   "id": "dc9855b5",
   "metadata": {},
   "outputs": [
    {
     "name": "stdout",
     "output_type": "stream",
     "text": [
      "    ticker     open    close                date       dates      time\n",
      "0     AAPL  19.7793  19.6082 2013-01-02 05:00:00  2013-01-02  05:00:00\n",
      "1     AAPL  19.5671  19.3606 2013-01-03 05:00:00  2013-01-03  05:00:00\n",
      "2     AAPL  19.1773  18.8214 2013-01-04 05:00:00  2013-01-04  05:00:00\n",
      "3     AAPL  18.6429  18.7107 2013-01-07 05:00:00  2013-01-07  05:00:00\n",
      "4     AAPL  18.9004  18.7611 2013-01-08 05:00:00  2013-01-08  05:00:00\n",
      "..     ...      ...      ...                 ...         ...       ...\n",
      "115   AMZN  13.9540  14.0880 2013-06-18 04:00:00  2013-06-18  04:00:00\n",
      "116   AMZN  14.0630  13.9080 2013-06-19 04:00:00  2013-06-19  04:00:00\n",
      "117   AMZN  13.7570  13.6720 2013-06-20 04:00:00  2013-06-20  04:00:00\n",
      "118   AMZN  13.7285  13.6680 2013-06-21 04:00:00  2013-06-21  04:00:00\n",
      "119   AMZN  13.5645  13.5305 2013-06-24 04:00:00  2013-06-24  04:00:00\n",
      "\n",
      "[360 rows x 6 columns]\n"
     ]
    }
   ],
   "source": [
    "#pip install python-dateutil\n",
    "#from dateutil.parser import parse\n",
    "\n",
    "#dummy2.info()\n",
    "#dummy2.dtypes\n",
    "#print(dummy2.date)\n",
    "#dummy2[\"dates\"] = pd.to_datetime(dummy2[\"date\"], format=\"%Y:%M:%d\")\n",
    "dummy2[\"dates\"] = dummy2[\"date\"].dt.date\n",
    "dummy2[\"time\"] = dummy2[\"date\"].dt.time\n",
    "#dummy2.drop(\"hours\", axis=1, inplace=True)\n",
    "print(dummy2)\n",
    "\n",
    "  \n",
    "     "
   ]
  },
  {
   "cell_type": "code",
   "execution_count": null,
   "id": "22ee67ae",
   "metadata": {},
   "outputs": [],
   "source": []
  }
 ],
 "metadata": {
  "kernelspec": {
   "display_name": "PythonData",
   "language": "python",
   "name": "pythondata"
  },
  "language_info": {
   "codemirror_mode": {
    "name": "ipython",
    "version": 3
   },
   "file_extension": ".py",
   "mimetype": "text/x-python",
   "name": "python",
   "nbconvert_exporter": "python",
   "pygments_lexer": "ipython3",
   "version": "3.7.7"
  }
 },
 "nbformat": 4,
 "nbformat_minor": 5
}
