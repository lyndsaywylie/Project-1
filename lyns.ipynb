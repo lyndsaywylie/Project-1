{
 "cells": [
  {
   "cell_type": "code",
   "execution_count": 3,
   "id": "1cb73f95",
   "metadata": {},
   "outputs": [],
   "source": [
    "from matplotlib import pyplot as plt\n",
    "from scipy.stats import linregress\n",
    "import numpy as np\n",
    "from sklearn import datasets\n",
    "import pandas as pd\n",
    "from config import api_key\n",
    "import requests\n",
    "import json"
   ]
  },
  {
   "cell_type": "code",
   "execution_count": 50,
   "id": "85728387",
   "metadata": {},
   "outputs": [
    {
     "name": "stdout",
     "output_type": "stream",
     "text": [
      "     ticker      open     close           date\n",
      "0      AAPL   21.2457   21.2614  1351656000000\n",
      "1      AAPL   21.3650   21.3050  1351742400000\n",
      "2      AAPL   21.2818   20.6000  1351828800000\n",
      "3      AAPL   20.8398   20.8793  1352091600000\n",
      "4      AAPL   21.0796   20.8161  1352178000000\n",
      "...     ...       ...       ...            ...\n",
      "2508   AMZN  119.0600  116.3600  1666065600000\n",
      "2509   AMZN  114.7100  115.0700  1666152000000\n",
      "2510   AMZN  113.8300  115.2500  1666238400000\n",
      "2511   AMZN  114.7920  119.3200  1666324800000\n",
      "2512   AMZN  119.9800  119.8200  1666584000000\n",
      "\n",
      "[7182 rows x 4 columns]\n"
     ]
    }
   ],
   "source": [
    "tickers = [\"AAPL\", \"GOOGL\", \"AMZN\"]\n",
    "\n",
    "dummy = pd.DataFrame(columns = [\"ticker\", \"o\", \"c\", \"t\"])\n",
    "\n",
    "#create loop to run through URL & save info into lists\n",
    "for name in tickers:\n",
    "    base_url = f\"https://api.polygon.io/v2/aggs/ticker/{name}/range/1/day/2012-01-01/2022-10-24?adjusted=true&sort=asc&limit=50000&apiKey={api_key}\"\n",
    "    response = requests.get(base_url).json()\n",
    "    datadata = pd.json_normalize(response[\"results\"])\n",
    "    datadata[\"ticker\"] = name\n",
    "    datadata = datadata[[\"ticker\", \"o\", \"c\", \"t\"]]\n",
    "#print(datadata)\n",
    "    dummy = pd.concat([dummy,datadata])\n",
    "dummy.columns=[\"ticker\", \"open\", \"close\", \"date\"]\n",
    "#pd.concat([dummy,datadata],axis=0)\n",
    "print(dummy)\n"
   ]
  },
  {
   "cell_type": "code",
   "execution_count": null,
   "id": "a30a76ee",
   "metadata": {},
   "outputs": [],
   "source": []
  }
 ],
 "metadata": {
  "kernelspec": {
   "display_name": "PythonData",
   "language": "python",
   "name": "pythondata"
  },
  "language_info": {
   "codemirror_mode": {
    "name": "ipython",
    "version": 3
   },
   "file_extension": ".py",
   "mimetype": "text/x-python",
   "name": "python",
   "nbconvert_exporter": "python",
   "pygments_lexer": "ipython3",
   "version": "3.7.7"
  }
 },
 "nbformat": 4,
 "nbformat_minor": 5
}
